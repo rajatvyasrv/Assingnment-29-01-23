{
 "cells": [
  {
   "cell_type": "code",
   "execution_count": 1,
   "id": "f80ca9d5-ece7-4b8d-85b0-60e459d45e80",
   "metadata": {},
   "outputs": [
    {
     "data": {
      "text/plain": [
       "[1, 3, 5, 7, 9, 11, 13, 15, 17, 19, 21, 23, 25]"
      ]
     },
     "execution_count": 1,
     "metadata": {},
     "output_type": "execute_result"
    }
   ],
   "source": [
    "'''Q1. Which keyword is used to create a function? Create a function to return a list of odd numbers in the\n",
    "range of 1 to 25.'''\n",
    "\n",
    "# def key word is use to create a function.\n",
    "\n",
    "def know_odd_number():\n",
    "    odd_number = []\n",
    "    for i in range(1,26):\n",
    "        if i % 2 !=0:\n",
    "            odd_number.append(i)\n",
    "    return odd_number\n",
    "know_odd_number()"
   ]
  },
  {
   "cell_type": "code",
   "execution_count": 2,
   "id": "0ff14816-24fd-4e91-abe3-e338bee3d192",
   "metadata": {},
   "outputs": [
    {
     "name": "stdout",
     "output_type": "stream",
     "text": [
      "(2, 3, 4, 5, 60)\n"
     ]
    }
   ],
   "source": [
    "'''Q2. Why *args and **kwargs is used in some functions? Create a function each for *args and **kwargs\n",
    "to demonstrate their use.'''\n",
    "\n",
    "'''In Python, *args and **kwargs are special syntax that can be used in function definitions to allow the \n",
    "function to accept any number of positional and keyword arguments, respectively.\n",
    "The *args syntax is used to pass a variable number of positional arguments to a function. \n",
    "When the *args syntax is used in a function definition, \n",
    "it allows the function to accept any number of positional arguments, \n",
    "which are then passed to the function as a tuple. '''\n",
    "\n",
    "def test1(*args):\n",
    "    print(args)\n",
    "test1(2,3,4,5,60)\n"
   ]
  },
  {
   "cell_type": "code",
   "execution_count": 14,
   "id": "bc132fd3-e7d4-4ebc-add7-b0d6f7668579",
   "metadata": {},
   "outputs": [
    {
     "name": "stdout",
     "output_type": "stream",
     "text": [
      "{'a': 'Ram', 'b': [1, 2, 3, 4, 5], 'c': 'Shyam'}\n"
     ]
    }
   ],
   "source": [
    "'''The **kwargs syntax is used to pass a variable number of keyword arguments to a function. \n",
    "When the **kwargs syntax is used in a function definition, \n",
    "it allows the function to accept any number of keyword arguments, \n",
    "which are then passed to the function as a dictionary. For example:'''\n",
    "\n",
    "def test2(**kwargs):\n",
    "    print(kwargs)\n",
    "test2(a = \"Ram\", b = [1,2,3,4,5], c = \"Shyam\")"
   ]
  },
  {
   "cell_type": "code",
   "execution_count": 12,
   "id": "b4e0a705-dc02-466e-abe7-d8b971e140fc",
   "metadata": {},
   "outputs": [
    {
     "name": "stdout",
     "output_type": "stream",
     "text": [
      "2\n",
      "4\n",
      "6\n",
      "8\n",
      "10\n"
     ]
    }
   ],
   "source": [
    "'''Q3. What is an iterator in python? Name the method used to initialise the iterator object and the method\n",
    "used for iteration. Use these methods to\n",
    "print the first five elements of the given list [2, 4, 6, 8, 10, 12, 14,16, 18, 20].'''\n",
    "\n",
    "'''An iterator is an object that can be iterated (looped) upon,\n",
    "meaning that it allows us to traverse through a sequence of values. In Python, \n",
    "an iterator is an object that implements the iterator protocol, \n",
    "which consists of the __iter__() and __next__() methods.'''\n",
    "\n",
    "s = [2,4,6,8,10,12,14,16,18,20]\n",
    "m = iter(s)\n",
    "for i in range(5):\n",
    "    print(next(m))\n",
    "        "
   ]
  },
  {
   "cell_type": "code",
   "execution_count": 16,
   "id": "95251d0a-066d-4f03-b2e5-294073228233",
   "metadata": {},
   "outputs": [],
   "source": [
    "'''Q4.What is a generator function in python? Why yield keyword is used? Give an example of a generator\n",
    "function.'''\n",
    "\n",
    "'''A generator function in Python is a special type of function \n",
    "that generates a sequence of values using the yield keyword instead of return. \n",
    "Unlike normal functions that return a value and terminate, \n",
    "generator functions generate a series of values on-the-fly and maintain their internal state, \n",
    "allowing them to resume execution exactly where they left off on the next iteration.\n",
    "\n",
    "The yield keyword is used in a generator function to temporarily suspend the execution of the function,\n",
    "returning the current value to the caller, \n",
    "and preserving the state of the function. When the next value is requested by the caller, \n",
    "the generator function resumes its execution from where it left off and\n",
    "continues generating values until it reaches the end of the function or a return statement.'''\n",
    "\n",
    "\n",
    "def test_fib():\n",
    "    a,b = 0,1\n",
    "    while True:\n",
    "        yield a\n",
    "        a,b = b, a+b"
   ]
  },
  {
   "cell_type": "code",
   "execution_count": 17,
   "id": "5c87497d-726b-406a-b9b2-9578ee016934",
   "metadata": {},
   "outputs": [
    {
     "name": "stdout",
     "output_type": "stream",
     "text": [
      "0\n",
      "1\n",
      "1\n",
      "2\n",
      "3\n",
      "5\n",
      "8\n",
      "13\n",
      "21\n",
      "34\n"
     ]
    }
   ],
   "source": [
    "fib = test_fib()\n",
    "for i in range (10):\n",
    "    print(next(fib))"
   ]
  },
  {
   "cell_type": "code",
   "execution_count": 20,
   "id": "4b9a6ff0-0ea5-4810-928b-86d64fc80bfa",
   "metadata": {},
   "outputs": [],
   "source": [
    "'''Q5. Create a generator function for prime numbers less than 1000. Use the next() method to print the\n",
    "first 20 prime numbers.'''\n",
    "\n",
    "def prime_generator():\n",
    "    for num in range(2,1000):\n",
    "        is_prime = True\n",
    "        for i in range(2, int(num ** 0.5) +1 ):\n",
    "            if num %i ==0:\n",
    "                is_prime = False\n",
    "                break\n",
    "        if is_prime:\n",
    "            yield num"
   ]
  },
  {
   "cell_type": "code",
   "execution_count": 21,
   "id": "bac9ae36-c6df-448e-a359-4d2f1319e281",
   "metadata": {},
   "outputs": [
    {
     "name": "stdout",
     "output_type": "stream",
     "text": [
      "2\n",
      "3\n",
      "5\n",
      "7\n",
      "11\n",
      "13\n",
      "17\n",
      "19\n",
      "23\n",
      "29\n",
      "31\n",
      "37\n",
      "41\n",
      "43\n",
      "47\n",
      "53\n",
      "59\n",
      "61\n",
      "67\n",
      "71\n"
     ]
    }
   ],
   "source": [
    "n = prime_generator()\n",
    "for i in range(20):\n",
    "    print(next(n))"
   ]
  },
  {
   "cell_type": "code",
   "execution_count": 31,
   "id": "6a4e3aba-b7e5-427a-b685-6e7a9b538e51",
   "metadata": {},
   "outputs": [
    {
     "name": "stdout",
     "output_type": "stream",
     "text": [
      "0\n",
      "1\n",
      "1\n",
      "2\n",
      "3\n",
      "5\n",
      "8\n",
      "13\n",
      "21\n",
      "34\n"
     ]
    }
   ],
   "source": [
    "# Q6. Write a python program to print the first 10 Fibonacci numbers using a while loop.\n",
    "\n",
    "\n",
    "a = 0\n",
    "b = 1\n",
    "count = 0\n",
    "while count <10:\n",
    "    print(a)\n",
    "    c = a+b \n",
    "    a = b\n",
    "    b = c\n",
    "    count +=1"
   ]
  },
  {
   "cell_type": "code",
   "execution_count": 39,
   "id": "2a30c1cd-7c82-4f53-9637-7322c7b64875",
   "metadata": {},
   "outputs": [
    {
     "name": "stdout",
     "output_type": "stream",
     "text": [
      "['p', 'w', 's', 'k', 'i', 'l', 'l', 's']\n"
     ]
    }
   ],
   "source": [
    "'''Q7. Write a List Comprehension to iterate through the given string: ‘pwskills’.\n",
    "Expected output: ['p', 'w', 's', 'k', 'i', 'l', 'l', 's']'''\n",
    "s = \"pwskills\"\n",
    "r = [char for char in s]\n",
    "print(r)"
   ]
  },
  {
   "cell_type": "code",
   "execution_count": 40,
   "id": "190231e9-a7c6-455f-9699-a3ee16a023bf",
   "metadata": {},
   "outputs": [
    {
     "name": "stdin",
     "output_type": "stream",
     "text": [
      "Enter a number:  222\n"
     ]
    },
    {
     "name": "stdout",
     "output_type": "stream",
     "text": [
      "222 is a palindrome number\n"
     ]
    }
   ],
   "source": [
    "# Q8. Write a python program to check whether a given number is Palindrome or not using a while loop.\n",
    "\n",
    "number = int(input(\"Enter a number: \"))\n",
    "temp = number  # save the input number in a temporary variable\n",
    "reverse = 0   # initialize a variable to store the reversed number\n",
    "\n",
    "while temp > 0:\n",
    "    # extract the last digit of the input number and add it to the reversed number\n",
    "    last_digit = temp % 10\n",
    "    reverse = (reverse * 10) + last_digit\n",
    "    \n",
    "    # remove the last digit from the input number\n",
    "    temp = temp // 10\n",
    "\n",
    "# check if the reversed number is equal to the input number\n",
    "if reverse == number:\n",
    "    print(number, \"is a palindrome number\")\n",
    "else:\n",
    "    print(number, \"is not a palindrome number\")\n"
   ]
  },
  {
   "cell_type": "code",
   "execution_count": 5,
   "id": "a00b14b5-cbee-4997-aae0-c25047d47600",
   "metadata": {},
   "outputs": [
    {
     "name": "stdout",
     "output_type": "stream",
     "text": [
      "[1, 3, 5, 7, 9, 11, 13, 15, 17, 19, 21, 23, 25, 27, 29, 31, 33, 35, 37, 39, 41, 43, 45, 47, 49, 51, 53, 55, 57, 59, 61, 63, 65, 67, 69, 71, 73, 75, 77, 79, 81, 83, 85, 87, 89, 91, 93, 95, 97, 99]\n"
     ]
    }
   ],
   "source": [
    "# Q9. Write a code to print odd numbers from 1 to 100 using list comprehension.\n",
    "\n",
    "odd_numbers = [n for n in range(1,101) if  n%2 != 0 ]\n",
    "print(odd_numbers)"
   ]
  },
  {
   "cell_type": "code",
   "execution_count": null,
   "id": "0e366818-6775-46d0-b02b-23e93dfe4974",
   "metadata": {},
   "outputs": [],
   "source": []
  }
 ],
 "metadata": {
  "kernelspec": {
   "display_name": "Python 3 (ipykernel)",
   "language": "python",
   "name": "python3"
  },
  "language_info": {
   "codemirror_mode": {
    "name": "ipython",
    "version": 3
   },
   "file_extension": ".py",
   "mimetype": "text/x-python",
   "name": "python",
   "nbconvert_exporter": "python",
   "pygments_lexer": "ipython3",
   "version": "3.10.8"
  }
 },
 "nbformat": 4,
 "nbformat_minor": 5
}
