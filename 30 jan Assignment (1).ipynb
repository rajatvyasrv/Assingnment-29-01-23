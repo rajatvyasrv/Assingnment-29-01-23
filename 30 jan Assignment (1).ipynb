{
 "cells": [
  {
   "cell_type": "code",
   "execution_count": 5,
   "id": "f6c2e580-ee0c-4e90-b4d9-02c7b2f8d5b0",
   "metadata": {},
   "outputs": [
    {
     "name": "stdin",
     "output_type": "stream",
     "text": [
      "enter your marks 40\n"
     ]
    },
    {
     "name": "stdout",
     "output_type": "stream",
     "text": [
      "Your grade is D\n"
     ]
    }
   ],
   "source": [
    "#Q1 = # A program to accept percentage from user and display the grade according to the following criteria\n",
    "marks = int(input(\"enter your marks\"))\n",
    "if marks >= 90:\n",
    "    print(\"Your grde is A\")\n",
    "elif marks >=80 and marks <=90:\n",
    "    print( \"Your grade is B\")\n",
    "elif marks >=60 and marks <=80:\n",
    "    print(\"Your grade is C\")\n",
    "else:\n",
    "    print(\"Your grade is D\")"
   ]
  },
  {
   "cell_type": "code",
   "execution_count": 8,
   "id": "8bce683c-2257-4b5d-be20-8de8d910a892",
   "metadata": {},
   "outputs": [
    {
     "name": "stdin",
     "output_type": "stream",
     "text": [
      "Enter the cost price of the bike 60000\n"
     ]
    },
    {
     "name": "stdout",
     "output_type": "stream",
     "text": [
      "You have to pay 10% road tex\n"
     ]
    }
   ],
   "source": [
    "#Q2. A program to accept the cost price of bike and display the road tax to be paid according to the followng criteria\n",
    "\n",
    "price = int(input(\"Enter the cost price of the bike\"))\n",
    "if price >= 100000:\n",
    "    print(\"You have to pay 15% road tex\")\n",
    "elif price >= 50000 and price <=100000:\n",
    "    print(\"You have to pay 10% road tex\")\n",
    "else:\n",
    "    print(\"You have to pay 5% road tex\")"
   ]
  },
  {
   "cell_type": "code",
   "execution_count": 13,
   "id": "b99aa6ae-d91a-4be3-9d79-896e07fa6b34",
   "metadata": {},
   "outputs": [
    {
     "name": "stdin",
     "output_type": "stream",
     "text": [
      "Enter the city name Jaipur\n"
     ]
    },
    {
     "name": "stdout",
     "output_type": "stream",
     "text": [
      "Jal Mahal is the monument of Jaipur\n"
     ]
    }
   ],
   "source": [
    "#Q3 A program to accept the city from user and display monuments of that city.\n",
    " \n",
    "city = input(\"Enter the city name\")\n",
    "if city == \"Delhi\":\n",
    "    print(\"Red Fort is the monument of Delhi\")\n",
    "elif city == \"Agra\":\n",
    "    print(\"Taj Mahal is the monument of Agra\")\n",
    "else:\n",
    "    print(\"Jal Mahal is the monument of Jaipur\")"
   ]
  },
  {
   "cell_type": "code",
   "execution_count": 1,
   "id": "e536695f-2c50-483d-9a89-05bac2c9cc13",
   "metadata": {},
   "outputs": [],
   "source": [
    "#check how many times a given number can be divided by 3 before it is less than or equal to 10\n",
    "number = int(input(\"enter the number of element you are looking for \"))\n",
    "a , b  = 0 , 1 \n",
    "counter = 0 \n",
    "while counter < number : \n",
    "    print(a)\n",
    "    c = a+ b\n",
    "    a = b \n",
    "    b = c \n",
    "    counter= counter+ 1"
   ]
  },
  {
   "cell_type": "code",
   "execution_count": null,
   "id": "cf25a47b-6378-4285-a688-aaa02e52d62e",
   "metadata": {},
   "outputs": [
    {
     "name": "stdin",
     "output_type": "stream",
     "text": [
      "Enter Number :  9\n"
     ]
    }
   ],
   "source": [
    "num= int(input(\"Enter Number : \"))\n",
    "count=0\n",
    "while num//3<10:\n",
    "    count+=1\n",
    "    num=num//3\n",
    "print(\"Final Count\"+str(count))"
   ]
  },
  {
   "cell_type": "code",
   "execution_count": 7,
   "id": "02ef5b32-fddf-4f03-8d31-c1522d4b3e70",
   "metadata": {},
   "outputs": [
    {
     "name": "stdout",
     "output_type": "stream",
     "text": [
      "0\n"
     ]
    }
   ],
   "source": [
    "def division_by_3(n):\n",
    "    count = 0\n",
    "    while n > 10:\n",
    "        n = n / 3\n",
    "        count += 1\n",
    "    return count\n",
    "\n",
    "# Example usage\n",
    "print(division_by_3(9)) # Output: 2"
   ]
  },
  {
   "cell_type": "code",
   "execution_count": 8,
   "id": "ecf0d572-31d1-4ff9-b8f4-3795bd14036d",
   "metadata": {},
   "outputs": [
    {
     "data": {
      "text/plain": [
       "0"
      ]
     },
     "execution_count": 8,
     "metadata": {},
     "output_type": "execute_result"
    }
   ],
   "source": []
  },
  {
   "cell_type": "code",
   "execution_count": 20,
   "id": "6fb2ea61-7296-4793-a725-02642d636c2b",
   "metadata": {},
   "outputs": [
    {
     "name": "stdin",
     "output_type": "stream",
     "text": [
      "Enter the number of which the user wants to print the multiplication table:  33\n"
     ]
    },
    {
     "name": "stdout",
     "output_type": "stream",
     "text": [
      "The Multiplication Table of:  33\n",
      "33 x 101 = 33\n",
      "33 x 101 = 66\n",
      "33 x 101 = 99\n",
      "33 x 101 = 132\n",
      "33 x 101 = 165\n",
      "33 x 101 = 198\n",
      "33 x 101 = 231\n",
      "33 x 101 = 264\n",
      "33 x 101 = 297\n",
      "33 x 101 = 330\n"
     ]
    }
   ],
   "source": [
    "# Why and whe to use while loop in python given a detailed description with example.\n",
    "\n",
    "'''Python while loop is used to run a block code until a certain condition is met. \n",
    "Here, A while loop evaluates the condition. \n",
    "If the condition evaluates to True , the code inside the while loop is executed.'''\n",
    "\n",
    "# Use of while loop to print table.\n",
    "\n",
    "number = int(input (\"Enter the number of which the user wants to print the multiplication table: \"))      \n",
    "count = 1    \n",
    "# we are using while loop for iterating the multiplication 10 times      \n",
    "print (\"The Multiplication Table of: \", number)    \n",
    "while count <= 10:    \n",
    "    number = number * 1    \n",
    "    print (number, 'x', i, '=', number * count)    \n",
    "    count += 1  \n"
   ]
  },
  {
   "cell_type": "code",
   "execution_count": 12,
   "id": "e280bb6c-5481-4d28-8b4f-7f5f902abc32",
   "metadata": {},
   "outputs": [
    {
     "name": "stdout",
     "output_type": "stream",
     "text": [
      "*\n",
      "\n",
      "**\n",
      "\n",
      "***\n",
      "\n",
      "****\n",
      "\n",
      "*****\n",
      "\n",
      "*****\n",
      "\n",
      "****\n",
      "\n",
      "***\n",
      "\n",
      "**\n",
      "\n",
      "*\n",
      "\n",
      "\n",
      "\n",
      "    *\n",
      "\n",
      "   **\n",
      "\n",
      "  ***\n",
      "\n",
      " ****\n",
      "\n",
      "*****\n",
      "\n",
      "******\n",
      "\n",
      "*****\n",
      "\n",
      " ****\n",
      "\n",
      "  ***\n",
      "\n",
      "   **\n",
      "\n",
      "    *\n",
      "\n",
      "    *\n",
      "\n",
      "   ***\n",
      "\n",
      "  *****\n",
      "\n",
      " *******\n",
      "\n",
      "*********\n",
      "\n"
     ]
    }
   ],
   "source": [
    "# Use nested while loop to print 3 different pattern.\n",
    "for i in range(1,6):\n",
    "    for j in range(1, i+1):\n",
    "        print(\"*\", end=\"\")\n",
    "        \n",
    "    print(\"\\n\")\n",
    "    \n",
    "for i in range(5,0, -1):\n",
    "    for j in range(1, i+1):\n",
    "        print(\"*\", end=\"\")\n",
    "        \n",
    "    print(\"\\n\")\n",
    "\n",
    "    \n",
    "for i in range(1,6):\n",
    "    for k in range(1,6-i):\n",
    "        print(\" \", end = \"\")\n",
    "    for j in range(1, i+1):\n",
    "        print(\"*\", end=\"\")\n",
    "        \n",
    "    print(\"\\n\")\n",
    "    \n",
    "for i in range(6,0,-1):\n",
    "    for k in range(1,6-i):\n",
    "        print(\" \", end = \"\")\n",
    "    for j in range(1, i+1):\n",
    "        print(\"*\", end=\"\")\n",
    "        \n",
    "    print(\"\\n\")\n",
    "    \n",
    "    \n",
    "for i in range(1,6):\n",
    "    for k in range(1,6-i):\n",
    "        print(\" \", end = \"\")\n",
    "    for j in range(1, (2*i-1)+1):\n",
    "        print(\"*\", end=\"\")\n",
    "        \n",
    "    print(\"\\n\")"
   ]
  },
  {
   "cell_type": "code",
   "execution_count": 13,
   "id": "4c06adf5-0c2c-4b4a-a5d4-d56d04263b38",
   "metadata": {},
   "outputs": [
    {
     "name": "stdout",
     "output_type": "stream",
     "text": [
      "10 9 8 7 6 5 4 3 2 1 "
     ]
    }
   ],
   "source": [
    "# Reverse a while loop to display numbers from 10 to 1\n",
    "i = 1\n",
    "while i<=10:\n",
    "    print(11-i, end = \" \")\n",
    "    i+=1"
   ]
  },
  {
   "cell_type": "code",
   "execution_count": 15,
   "id": "736eef11-4f9b-441f-9705-637f9a262e9e",
   "metadata": {},
   "outputs": [
    {
     "name": "stdout",
     "output_type": "stream",
     "text": [
      "1 2 3 4 5 6 7 8 9 10 11 12 13 14 15 16 17 18 19 20 21 22 23 24 25 26 27 28 29 30 31 32 33 34 35 36 37 38 39 40 41 42 43 44 45 46 47 48 49 50 51 52 53 54 55 56 57 58 59 60 61 62 63 64 65 66 67 68 69 70 71 72 73 74 75 76 77 78 79 80 81 82 83 84 85 86 87 88 89 90 91 92 93 94 95 96 97 98 99 100 "
     ]
    }
   ],
   "source": [
    "# A while loop to display numbers from 1 to 100.\n",
    "i = 1\n",
    "while i<=100:\n",
    "    print(i, end = \" \")\n",
    "    i+=1"
   ]
  },
  {
   "cell_type": "code",
   "execution_count": null,
   "id": "6bbdeb5f-6810-4988-99c3-c74d6fb1780c",
   "metadata": {},
   "outputs": [],
   "source": []
  }
 ],
 "metadata": {
  "kernelspec": {
   "display_name": "Python 3 (ipykernel)",
   "language": "python",
   "name": "python3"
  },
  "language_info": {
   "codemirror_mode": {
    "name": "ipython",
    "version": 3
   },
   "file_extension": ".py",
   "mimetype": "text/x-python",
   "name": "python",
   "nbconvert_exporter": "python",
   "pygments_lexer": "ipython3",
   "version": "3.10.8"
  }
 },
 "nbformat": 4,
 "nbformat_minor": 5
}
