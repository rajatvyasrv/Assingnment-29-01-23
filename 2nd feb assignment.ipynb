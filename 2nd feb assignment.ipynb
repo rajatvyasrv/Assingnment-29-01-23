{
 "cells": [
  {
   "cell_type": "code",
   "execution_count": 2,
   "id": "b93f3156-c79a-418d-85bc-3aaf9d63d6b1",
   "metadata": {},
   "outputs": [
    {
     "name": "stdout",
     "output_type": "stream",
     "text": [
      "1\n",
      "2\n",
      "3\n",
      "4\n",
      "5\n",
      "6\n",
      "7\n",
      "8\n",
      "9\n"
     ]
    }
   ],
   "source": [
    "# Q1. Explain with an example each when to use a for loop and a while loop.\n",
    "\n",
    "'''Both for loops and while loops are used in programming to execute a block of code repeatedly, \n",
    "but they are used in different situations. \n",
    "Here are some examples of when to use a for loop and a while loop:'''\n",
    "\n",
    "# for loop\n",
    "for i in range(1,10):\n",
    "    print(i)\n"
   ]
  },
  {
   "cell_type": "code",
   "execution_count": 9,
   "id": "e08d25fc-0aa2-4fb3-8307-b55933e558a3",
   "metadata": {},
   "outputs": [
    {
     "name": "stdin",
     "output_type": "stream",
     "text": [
      "enter your number 445\n"
     ]
    },
    {
     "name": "stdout",
     "output_type": "stream",
     "text": [
      "445 X 9 = 445\n",
      "445 X 9 = 890\n",
      "445 X 9 = 1335\n",
      "445 X 9 = 1780\n",
      "445 X 9 = 2225\n",
      "445 X 9 = 2670\n",
      "445 X 9 = 3115\n",
      "445 X 9 = 3560\n",
      "445 X 9 = 4005\n",
      "445 X 9 = 4450\n"
     ]
    }
   ],
   "source": [
    "# while loop\n",
    "# Writing a table of any number thorught while loop\n",
    "n = int(input(\"enter your number\"))\n",
    "count = 1\n",
    "while count<=10:\n",
    "    n = n * 1\n",
    "    print(n, 'X', i, '=', n*count)\n",
    "    count +=1"
   ]
  },
  {
   "cell_type": "code",
   "execution_count": 3,
   "id": "45cfa22c-700f-4c85-a991-02c96a0c2d47",
   "metadata": {},
   "outputs": [
    {
     "name": "stdout",
     "output_type": "stream",
     "text": [
      "Sum of first 10 natural numbers is: 55\n",
      "Product of first 10 natural numbers is: 3628800\n"
     ]
    }
   ],
   "source": [
    "# Q2. Write a python program to print the sum and product of the first 10 natural numbers using for and while loop.\n",
    "sum = 0\n",
    "product = 1\n",
    "i = 1\n",
    "\n",
    "while i <= 10:\n",
    "    sum += i\n",
    "    product *= i\n",
    "    i += 1\n",
    "    \n",
    "print(\"Sum of first 10 natural numbers is:\", sum)\n",
    "print(\"Product of first 10 natural numbers is:\", product)"
   ]
  },
  {
   "cell_type": "code",
   "execution_count": 1,
   "id": "75659e4a-381d-4290-8c40-a84c09e0d48c",
   "metadata": {},
   "outputs": [
    {
     "name": "stdin",
     "output_type": "stream",
     "text": [
      "Enter your electricity meter reading Units 310\n"
     ]
    },
    {
     "name": "stdout",
     "output_type": "stream",
     "text": [
      "Your electric bill amount for 310 unit is ₹ 6200 /-\n"
     ]
    }
   ],
   "source": [
    "'''Q3. Create a python program to compute the electricity bill for a household.\n",
    "The per-unit charges in rupees are as follows: For the first 100 units, the user will be charged Rs. 4.5 per\n",
    "unit, for the next 100 units, the user will be charged Rs. 6 per unit, and for the next 100 units, the user will\n",
    "be charged Rs. 10 per unit, After 300 units and above the user will be charged Rs. 20 per unit.\n",
    "You are required to take the units of electricity consumed in a month from the user as input..'''\n",
    "\n",
    "\n",
    "unit = int(input(\"Enter your electricity meter reading Units\"))\n",
    "ruppe = 0\n",
    "if unit <100:\n",
    "    ruppe = unit*4.5\n",
    "    print(\"Your electric bill amount for\", unit, \"unit is ₹\",ruppe,\"/-\")\n",
    "elif unit<200:\n",
    "    ruppe = unit*6\n",
    "    print(\"Your electric bill amount for\", unit, \"unit is ₹\",ruppe,\"/-\")\n",
    "elif unit<300:\n",
    "    ruppe = unit*10\n",
    "    print(\"Your electric bill amount for\", unit, \"unit is ₹\",ruppe,\"/-\")\n",
    "else:\n",
    "    ruppe = unit*20\n",
    "    print(\"Your electric bill amount for\", unit, \"unit is ₹\",ruppe ,\"/-\")\n",
    "    \n",
    "    "
   ]
  },
  {
   "cell_type": "code",
   "execution_count": null,
   "id": "a929ef53-c40b-44f5-a620-dee8affb1724",
   "metadata": {},
   "outputs": [],
   "source": [
    "'''Q4. Create a list of numbers from 1 to 100. Use for loop and while loop to calculate the cube of each\n",
    "number and if the cube of that number is divisible by 4 or 5 then append that number in a list and print\n",
    "that list.'''\n",
    "\n",
    "numbers = list(range(1, 101))\n",
    "divisible_numbers = []\n",
    "\n",
    "for number in numbers:\n",
    "    cube = number ** 3\n",
    "    if cube % 4 == 0 or cube % 5 == 0:\n",
    "        divisible_numbers.append(number)\n",
    "\n",
    "print(divisible_numbers)"
   ]
  },
  {
   "cell_type": "code",
   "execution_count": 2,
   "id": "95515899-4850-46fd-a114-34ab355c913b",
   "metadata": {},
   "outputs": [
    {
     "name": "stdout",
     "output_type": "stream",
     "text": [
      "[2, 4, 5, 6, 8, 10, 12, 14, 15, 16, 18, 20, 22, 24, 25, 26, 28, 30, 32, 34, 35, 36, 38, 40, 42, 44, 45, 46, 48, 50, 52, 54, 55, 56, 58, 60, 62, 64, 65, 66, 68, 70, 72, 74, 75, 76, 78, 80, 82, 84, 85, 86, 88, 90, 92, 94, 95, 96, 98, 100]\n"
     ]
    }
   ],
   "source": [
    "numbers = list(range(1, 101))\n",
    "divisible_numbers = []\n",
    "\n",
    "i = 0\n",
    "while i < len(numbers):\n",
    "    cube = numbers[i] ** 3\n",
    "    if cube % 4 == 0 or cube % 5 == 0:\n",
    "        divisible_numbers.append(numbers[i])\n",
    "    i += 1\n",
    "\n",
    "print(divisible_numbers)"
   ]
  },
  {
   "cell_type": "code",
   "execution_count": 3,
   "id": "4048cda2-5bb4-4f6f-9261-617a24327ff5",
   "metadata": {},
   "outputs": [
    {
     "name": "stdout",
     "output_type": "stream",
     "text": [
      "12\n"
     ]
    }
   ],
   "source": [
    "'''Q5. Write a program to filter count vowels in the below-given string.\n",
    "string = \"I want to become a data scientist\" '''\n",
    "\n",
    "string = \"I want to become a data scientist\"\n",
    "\n",
    "# Define a function to filter and count vowels\n",
    "def count_vowels(string):\n",
    "    # Define a set of vowels\n",
    "    vowels = set(\"aeiouAEIOU\")\n",
    "    # Initialize a variable to count the vowels\n",
    "    count = 0\n",
    "    # Iterate through each character in the string\n",
    "    for char in string:\n",
    "        # If the character is a vowel, increment the count\n",
    "        if char in vowels:\n",
    "            count += 1\n",
    "    # Return the count of vowels\n",
    "    return count\n",
    "\n",
    "# Call the function with the given string\n",
    "print(count_vowels(string))\n"
   ]
  },
  {
   "cell_type": "code",
   "execution_count": null,
   "id": "c3a2d3c2-4754-43ae-93de-3e470aabc76d",
   "metadata": {},
   "outputs": [],
   "source": []
  }
 ],
 "metadata": {
  "kernelspec": {
   "display_name": "Python 3 (ipykernel)",
   "language": "python",
   "name": "python3"
  },
  "language_info": {
   "codemirror_mode": {
    "name": "ipython",
    "version": 3
   },
   "file_extension": ".py",
   "mimetype": "text/x-python",
   "name": "python",
   "nbconvert_exporter": "python",
   "pygments_lexer": "ipython3",
   "version": "3.10.8"
  }
 },
 "nbformat": 4,
 "nbformat_minor": 5
}
