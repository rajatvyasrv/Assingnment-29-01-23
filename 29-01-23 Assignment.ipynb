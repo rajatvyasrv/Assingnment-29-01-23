{
 "cells": [
  {
   "cell_type": "code",
   "execution_count": null,
   "id": "45f2d3cd-8d63-4820-be55-94be562046e7",
   "metadata": {},
   "outputs": [],
   "source": [
    "Assingment "
   ]
  },
  {
   "cell_type": "code",
   "execution_count": 4,
   "id": "e4f45e80-5e7d-42a0-a743-94be1f242a92",
   "metadata": {},
   "outputs": [],
   "source": [
    "Q1  = \"Python programming language was developed by Guido van Rossum.\""
   ]
  },
  {
   "cell_type": "code",
   "execution_count": 6,
   "id": "3caf4051-39f2-4cbe-b5d1-fcffd4eab958",
   "metadata": {},
   "outputs": [],
   "source": [
    "Q2 = '''Python supports several programming paradigms including object-oriented, procedural, functional, \n",
    "and aspect-oriented programming. It can be used to develop a wide range of applications such as desktop GUI applications, \n",
    "scientific applications, data analysis and visualization, network programming, games, web applications, and more'''"
   ]
  },
  {
   "cell_type": "code",
   "execution_count": null,
   "id": "ea3c892b-e8c5-4f26-beae-c0fbdf135b90",
   "metadata": {},
   "outputs": [],
   "source": [
    "Q3 = '''Yes, Python is case sensitive when dealing with identifiers (variable names, function names, class names, etc.). \n",
    "For example, \"variable\" and \"Variable\" would be considered as two different identifiers in Python.'''"
   ]
  },
  {
   "cell_type": "code",
   "execution_count": null,
   "id": "00df62d9-c478-449d-9382-8f07b1dab7b8",
   "metadata": {},
   "outputs": [],
   "source": [
    "Q4 = ''' The correct extension for python file is .py'''"
   ]
  },
  {
   "cell_type": "code",
   "execution_count": null,
   "id": "89f3fd83-b231-498a-a348-3b61c57c924d",
   "metadata": {},
   "outputs": [],
   "source": [
    "Q5 = \"\"\"Python code is useing interpreter not complier\"\"\""
   ]
  },
  {
   "cell_type": "code",
   "execution_count": 7,
   "id": "2a4a65c8-0cec-4e1f-9018-94c4674ab4db",
   "metadata": {},
   "outputs": [],
   "source": [
    "Q6 = '''In Python, a few blocks of code that are used to define structures include:\n",
    "\n",
    "Functions: defined using the \"def\" keyword.\n",
    "Classes: defined using the \"class\" keyword.\n",
    "If-else statements: used to conditionally execute code.\n",
    "For loops: used to iterate over a sequence of elements.\n",
    "While loops: used to repeat a block of code as long as a condition is true.\n",
    "Try-except blocks: used to handle exceptions and errors in the code.\n",
    "With statements: used to wrap the execution of a block of code with methods defined by a context manager.\n",
    "These blocks help in organizing and structuring code, making it more readable and maintainable.'''"
   ]
  },
  {
   "cell_type": "code",
   "execution_count": null,
   "id": "3657e328-964f-42fd-8d08-948feb88ce3a",
   "metadata": {},
   "outputs": [],
   "source": [
    "Q6 =  #Single like comment in pythoon is bye using \"#\" befor any statement."
   ]
  },
  {
   "cell_type": "code",
   "execution_count": 12,
   "id": "5792a31b-b92b-41fd-8437-eedbf3571540",
   "metadata": {},
   "outputs": [
    {
     "name": "stdout",
     "output_type": "stream",
     "text": [
      "python version\n",
      "3.10.8 | packaged by conda-forge | (main, Nov 22 2022, 08:26:04) [GCC 10.4.0]\n",
      "Version info.\n",
      "sys.version_info(major=3, minor=10, micro=8, releaselevel='final', serial=0)\n"
     ]
    }
   ],
   "source": [
    "Q7 = \"\"\"for geting the version ther version that we are currently working on to use the below code\"\"\" \n",
    "import sys\n",
    "print(\"python version\")\n",
    "print(sys.version)\n",
    "print(\"Version info.\")\n",
    "print(sys.version_info)"
   ]
  },
  {
   "cell_type": "code",
   "execution_count": 15,
   "id": "340885f9-a6f8-42d1-aa96-e3b7591d6ce3",
   "metadata": {},
   "outputs": [
    {
     "data": {
      "text/plain": [
       "'lambda functions are often used with higher-order functions such as map(), filter(), \\nand reduce() to perform operations on lists, tuples, and other iterable objects.'"
      ]
     },
     "execution_count": 15,
     "metadata": {},
     "output_type": "execute_result"
    }
   ],
   "source": [
    "Q8 = '''In Python, anonymous functions at runtime can be created using a construct called lambda.\n",
    "A lambda function is a small, anonymous function that can take any number of arguments but can only have one expression. \n",
    "The general syntax for a lambda function is:'''\n",
    "lambda arguments: expression\n",
    "'''lambda functions are often used with higher-order functions such as map(), filter(), \n",
    "and reduce() to perform operations on lists, tuples, and other iterable objects.'''"
   ]
  },
  {
   "cell_type": "code",
   "execution_count": 16,
   "id": "bbbb6569-ac2f-4aa5-90fd-712d66ded6f8",
   "metadata": {},
   "outputs": [],
   "source": [
    "Q9 = '''pip is a package manager for Python. It is used to manage and distribute packages for Python software. \n",
    "A package is a collection of Python modules and it helps in organizing and sharing code.\n",
    "With pip, you can easily install and manage packages from the Python Package Index (PyPI) or other indexes. \n",
    "You can also use pip to upgrade or remove packages, as well as to create and manage virtual environments.\n",
    "Using pip saves you time and effort by automating the process of installing and managing packages,\n",
    "allowing you to focus on writing code rather than searching for and installing packages.'''"
   ]
  },
  {
   "cell_type": "code",
   "execution_count": 17,
   "id": "c4ee1410-2eac-433f-b923-a95d9904b058",
   "metadata": {},
   "outputs": [],
   "source": [
    "Q10= '''Here are a few built-in functions in Python:\n",
    "\n",
    "print(): used to display output on the console.\n",
    "len(): used to get the length of an object such as a string, list, or tuple.\n",
    "max(): used to get the maximum value from an iterable object.\n",
    "min(): used to get the minimum value from an iterable object.\n",
    "sum(): used to calculate the sum of elements in an iterable object.\n",
    "sorted(): used to sort elements in an iterable object.\n",
    "abs(): used to get the absolute value of a number.\n",
    "int(): used to convert a value to an integer.\n",
    "float(): used to convert a value to a floating-point number.\n",
    "str(): used to convert a value to a string.\n",
    "These built-in functions provide a quick and easy way to perform common operations in Python.'''"
   ]
  },
  {
   "cell_type": "code",
   "execution_count": 18,
   "id": "5f827daa-8bf6-4781-8f81-496d20714bc4",
   "metadata": {},
   "outputs": [],
   "source": [
    "Q11 = '''In Python, there is no practical limit on the length of an identifier (variable name, function name, \n",
    "class name, etc.). The only constraint is the amount of memory available to store the identifier, \n",
    "which can be affected by factors such as the operating system, the architecture of the computer, \n",
    "and the amount of memory installed. However, it is good practice to keep identifiers short and \n",
    "descriptive to make the code more readable and maintainable.'''"
   ]
  },
  {
   "cell_type": "code",
   "execution_count": 19,
   "id": "0abffb27-0f96-4d84-96f6-4b2af63224a6",
   "metadata": {},
   "outputs": [],
   "source": [
    "Q12 = '''There are many benefits of using Python, including:\n",
    "Easy to Learn and Use: Python has a simple and intuitive syntax, making it easy to learn and use for beginners and experts alike.\n",
    "Versatile: Python can be used for a wide range of tasks, including web development, scientific computing, data analysis, artificial intelligence, and more.\n",
    "Large Community: Python has a large and active community of developers, which means that there is a wealth of resources, libraries, and tools available for users.\n",
    "Dynamic Typing: Python uses dynamic typing, which means that you don't need to declare the data type of a variable before you use it, making the code more flexible.\n",
    "Large Standard Library: Python has a large standard library, which provides a rich set of modules and tools that can be used for many tasks without the need to install additional packages.\n",
    "Interoperable: Python can be easily integrated with other programming languages and tools, making it a great choice for building complex, multi-language systems.\n",
    "Easy to Debug and Test: Python has built-in debugging and testing tools, which make it easier to find and fix problems in the code.\n",
    "These benefits, combined with its popularity and widespread use, make Python a great choice for a wide range of tasks and applications.'''"
   ]
  },
  {
   "cell_type": "code",
   "execution_count": 21,
   "id": "ad33cd70-5eb2-46a9-bcce-ec7aa2079389",
   "metadata": {},
   "outputs": [],
   "source": [
    "Q13 = '''In Python, memory management is automatic and handled by the Python memory manager. \n",
    "The memory manager manages the allocation of memory for Python objects and data structures, as well as deallocating memory \n",
    "when it is no longer needed.\n",
    "\n",
    "One of the key features of the Python memory manager is reference counting. \n",
    "When an object is created, its reference count is set to 1. Whenever another reference to the object is created, \n",
    "the reference count is incremented, and when a reference to the object is deleted, the reference count is decremented. \n",
    "When the reference count of an object reaches zero, the memory occupied by the object is automatically deallocated by \n",
    "the memory manager.\n",
    "\n",
    "In addition to reference counting, the Python memory manager also includes a cycle detector,\n",
    "which identifies objects that are involved in reference cycles and deallocates their memory.\n",
    "\n",
    "Overall, the Python memory manager provides a convenient and efficient way to manage memory, \n",
    "allowing Python programmers to focus on writing code rather than worrying about memory allocation and deallocation.'''"
   ]
  },
  {
   "cell_type": "code",
   "execution_count": 22,
   "id": "12b08d7c-0dd2-4ee9-8b90-601460b9a031",
   "metadata": {},
   "outputs": [],
   "source": [
    "Q14 = '''To install Python on Windows and set the PATH variables, follow these steps:\n",
    "\n",
    "Download the latest Python version from the official Python website: https://www.python.org/downloads/\n",
    "\n",
    "Run the Python installation file and follow the instructions to install Python on your computer.\n",
    "\n",
    "To set the PATH variables, follow these steps:\n",
    "a. Right-click on the Start menu button and select System.\n",
    "b. Click on Advanced system settings.\n",
    "c. In the System Properties window, click on the Advanced tab.\n",
    "d. Click on the Environment Variables button.\n",
    "e. In the Environment Variables window, scroll down to the System Variables section and find the Path variable.\n",
    "f. Click on the Path variable and click the Edit button.\n",
    "g. Add the path to the Python installation (e.g. C:\\Python37\\Scripts) to the end of the Variable value field.\n",
    "h. Click OK to close all windows and apply the changes.\n",
    "\n",
    "To verify that the installation was successful, open the Command Prompt and type python to start the Python interpreter. \n",
    "You should see the Python prompt, which indicates that Python is installed and the PATH variable is set correctly.\n",
    "\n",
    "With these steps, you should now be able to install Python on your \n",
    "Windows computer and set the PATH variable to run Python from any location in the Command Prompt.'''"
   ]
  },
  {
   "cell_type": "code",
   "execution_count": null,
   "id": "89f30d80-e38c-4c57-90ec-1c3911a96ad0",
   "metadata": {},
   "outputs": [],
   "source": [
    "Q15"
   ]
  }
 ],
 "metadata": {
  "kernelspec": {
   "display_name": "Python 3 (ipykernel)",
   "language": "python",
   "name": "python3"
  },
  "language_info": {
   "codemirror_mode": {
    "name": "ipython",
    "version": 3
   },
   "file_extension": ".py",
   "mimetype": "text/x-python",
   "name": "python",
   "nbconvert_exporter": "python",
   "pygments_lexer": "ipython3",
   "version": "3.10.8"
  }
 },
 "nbformat": 4,
 "nbformat_minor": 5
}
